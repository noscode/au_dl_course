{
 "cells": [
  {
   "cell_type": "code",
   "execution_count": 1,
   "metadata": {
    "collapsed": true
   },
   "outputs": [],
   "source": [
    "import tensorflow as tf\n",
    "import time\n",
    "import my_colors\n",
    "\n",
    "gpu_options = tf.GPUOptions(per_process_gpu_memory_fraction=0.25)"
   ]
  },
  {
   "cell_type": "code",
   "execution_count": 2,
   "metadata": {
    "collapsed": true
   },
   "outputs": [],
   "source": [
    "import tarfile\n",
    "import re\n",
    "import urllib.request\n",
    "import os\n",
    "import random\n",
    "\n",
    "class ImdbMovieReviews:\n",
    "    DEFAULT_URL = \\\n",
    "        'http://ai.stanford.edu/~amaas/data/sentiment/aclImdb_v1.tar.gz'\n",
    "    TOKEN_REGEX = re.compile(r'[A-Za-z]+|[!?.:,()]')\n",
    "    \n",
    "    def __init__(self):\n",
    "        self._cache_dir = './imdb'\n",
    "        self._url = 'http://ai.stanford.edu/~amaas/data/sentiment/aclImdb_v1.tar.gz'\n",
    "        \n",
    "        if not os.path.isfile(self._cache_dir):\n",
    "            urllib.request.urlretrieve(self._url, self._cache_dir)\n",
    "        self.filepath = self._cache_dir\n",
    "\n",
    "    def __iter__(self):\n",
    "        with tarfile.open(self.filepath) as archive:\n",
    "            items = archive.getnames()\n",
    "            for filename in archive.getnames():\n",
    "                if filename.startswith('aclImdb/train/pos/'):\n",
    "                    yield self._read(archive, filename), True\n",
    "                elif filename.startswith('aclImdb/train/neg/'):\n",
    "                    yield self._read(archive, filename), False\n",
    "                    \n",
    "    def _read(self, archive, filename):\n",
    "        with archive.extractfile(filename) as file_:\n",
    "            data = file_.read().decode('utf-8')\n",
    "            data = type(self).TOKEN_REGEX.findall(data)\n",
    "            data = [x.lower() for x in data]\n",
    "            return data"
   ]
  },
  {
   "cell_type": "code",
   "execution_count": 3,
   "metadata": {
    "collapsed": true
   },
   "outputs": [],
   "source": [
    "import numpy as np\n",
    "# Spacy is my favourite nlp framework, which havu builtin word embeddings trains on wikipesia\n",
    "from spacy.en import English\n",
    "\n",
    "class Embedding:\n",
    "    \n",
    "    def __init__(self):\n",
    "#          spaCy makes using word vectors very easy. \n",
    "#             The Lexeme , Token , Span  and Doc  classes all have a .vector property,\n",
    "#             which is a 1-dimensional numpy array of 32-bit floats:\n",
    "        self.parser = English()\n",
    "#         self._length = length\n",
    "        self.dimensions = 300\n",
    "        \n",
    "    def __call__(self, sequence, length):\n",
    "        # DO I really need them to be equal length?\n",
    "        # Let's assume I'm not\n",
    "        data = np.zeros((length, self.dimensions))\n",
    "        # you can access known words from the parser's vocabulary\n",
    "        embedded = [self.parser.vocab[w].vector for w in sequence]\n",
    "        data[:len(sequence)] = embedded\n",
    "        return data"
   ]
  },
  {
   "cell_type": "code",
   "execution_count": 4,
   "metadata": {
    "collapsed": true
   },
   "outputs": [],
   "source": [
    "import itertools\n",
    "\n",
    "def preprocess_batched_split(iterator, embedding, batch_size):\n",
    "    iterator = iter(iterator)\n",
    "    while True:\n",
    "        batch = []\n",
    "        labelss = []\n",
    "        sentence_sizes_batch = []\n",
    "        for index in range(batch_size):\n",
    "            text, label = next(iterator)\n",
    "            sents = [list(y) for x, y in itertools.groupby(text, lambda z: z == '.') if not x]\n",
    "            sentence_sizes = [len(s) for s in sents]\n",
    "            text_embed = [embedding(sent) for sent in sents]\n",
    "            \n",
    "            batch.append(text_embed)\n",
    "            labelss.append(label)\n",
    "            sentence_sizes_batch.append(sentence_sizes)\n",
    "            \n",
    "        labels_batch = np.array(labelss, dtype=np.int32)\n",
    "        sent_per_doc = np.array([len(x) for x in sentence_sizes_batch])\n",
    "        words_per_sent_per_doc = np.array(sentence_sizes_batch)\n",
    "        yield np.array(batch), labels_batch, words_per_sent_per_doc, sent_per_doc"
   ]
  },
  {
   "cell_type": "code",
   "execution_count": 5,
   "metadata": {
    "collapsed": true
   },
   "outputs": [],
   "source": [
    "import itertools\n",
    "\n",
    "def preprocess_batched_split2(iterator, embedding, batch_size):\n",
    "    iterator = iter(iterator)\n",
    "    while True:\n",
    "        batch, labels_b = zip(*itertools.islice(iterator, batch_size))\n",
    "        \n",
    "        sents_b = [[list(y) for x, y in itertools.groupby(doc, lambda z: z == '.') if not x] for doc in batch]\n",
    "\n",
    "        sentence_sizes_b = [[len(sent) for sent in doc] for doc in sents_b]\n",
    "        sentence_size = max(map(max, sentence_sizes_b))\n",
    "        \n",
    "        document_sizes = np.array([len(doc) for doc in sentence_sizes_b], dtype=np.int32)\n",
    "        document_size = document_sizes.max()\n",
    "\n",
    "        sentence_sizes_np = np.zeros(shape=[batch_size, document_size], dtype=np.int32)\n",
    "        for bi, ds, ss in zip(range(sentence_sizes_np.shape[0]), document_sizes, sentence_sizes_b):\n",
    "            sentence_sizes_np[bi][:ds] = ss\n",
    "        \n",
    "        text_embed_b = np.zeros((batch_size, document_size, sentence_size, 300))\n",
    "        for i, ds, doc_sents in zip(range(text_embed_b.shape[0]), document_sizes, sents_b):\n",
    "            doc_sents_embed = np.array([embedding(sent, sentence_size) for sent in doc_sents])\n",
    "            text_embed_b[i][:ds] = doc_sents_embed\n",
    "        \n",
    "        yield text_embed_b, np.array(labels_b, dtype=np.int32), np.array(document_sizes), sentence_sizes_np, sents_b"
   ]
  },
  {
   "cell_type": "code",
   "execution_count": 6,
   "metadata": {
    "collapsed": true
   },
   "outputs": [],
   "source": [
    "reviews = list(ImdbMovieReviews())"
   ]
  },
  {
   "cell_type": "code",
   "execution_count": 7,
   "metadata": {
    "collapsed": true
   },
   "outputs": [],
   "source": [
    "random.shuffle(reviews)"
   ]
  },
  {
   "cell_type": "code",
   "execution_count": 8,
   "metadata": {
    "collapsed": true
   },
   "outputs": [],
   "source": [
    "#################################################"
   ]
  },
  {
   "cell_type": "code",
   "execution_count": 9,
   "metadata": {},
   "outputs": [
    {
     "name": "stdout",
     "output_type": "stream",
     "text": [
      "Modules to reload:\n",
      "\n",
      "\n",
      "Modules to skip:\n",
      "\n"
     ]
    }
   ],
   "source": [
    "import HanSequenceLabellingModel\n",
    "import model_components\n",
    "\n",
    "%load_ext autoreload\n",
    "%autoreload 1\n",
    "#%aimport HanSequenceLabellingModel, model_components\n",
    "%aimport"
   ]
  },
  {
   "cell_type": "code",
   "execution_count": 10,
   "metadata": {
    "collapsed": true
   },
   "outputs": [],
   "source": [
    "batches_split = preprocess_batched_split2(reviews, Embedding(), batch_size=10)"
   ]
  },
  {
   "cell_type": "code",
   "execution_count": 11,
   "metadata": {
    "collapsed": true
   },
   "outputs": [],
   "source": [
    "from HanSequenceLabellingModel import HanSequenceLabellingModel"
   ]
  },
  {
   "cell_type": "code",
   "execution_count": 12,
   "metadata": {
    "collapsed": true
   },
   "outputs": [],
   "source": [
    "def HAN_model_1(session, restore_only=False):\n",
    "    \"\"\"Hierarhical Attention Network\"\"\"\n",
    "    import tensorflow as tf\n",
    "    try:\n",
    "        from tensorflow.contrib.rnn import GRUCell, MultiRNNCell, DropoutWrapper\n",
    "    except ImportError:\n",
    "        MultiRNNCell = tf.nn.rnn_cell.MultiRNNCell\n",
    "        GRUCell = tf.nn.rnn_cell.GRUCell\n",
    "    from bn_lstm import BNLSTMCell\n",
    "    from HanSequenceLabellingModel import HanSequenceLabellingModel\n",
    "\n",
    "    is_training = tf.placeholder(dtype=tf.bool, name='is_training')\n",
    "\n",
    "    cell = BNLSTMCell(80, is_training) # h-h batchnorm LSTMCell\n",
    "    cell = MultiRNNCell([cell]*5)\n",
    "\n",
    "    model = HanSequenceLabellingModel(\n",
    "            embedding_size=300,\n",
    "            classes=2,\n",
    "            word_cell=cell,\n",
    "            sentence_cell=cell,\n",
    "            word_output_size=300,\n",
    "            sentence_output_size=300,\n",
    "            learning_rate=0.001,\n",
    "            max_grad_norm=5.0,\n",
    "            dropout_keep_proba=0.5,\n",
    "            is_training=is_training,\n",
    "    )\n",
    "\n",
    "    saver = tf.train.Saver(tf.global_variables())\n",
    "    checkpoint_dir = 'checkpoints'\n",
    "    checkpoint = tf.train.get_checkpoint_state(checkpoint_dir)\n",
    "    if checkpoint:\n",
    "        print(\"Reading model parameters from %s\" % checkpoint.model_checkpoint_path)\n",
    "        saver.restore(session, checkpoint.model_checkpoint_path)\n",
    "    elif restore_only:\n",
    "        raise FileNotFoundError(\"Cannot restore model\")\n",
    "    else:\n",
    "        print(\"Created model with fresh parameters\")\n",
    "        session.run(tf.global_variables_initializer())\n",
    "        \n",
    "    return model, saver"
   ]
  },
  {
   "cell_type": "code",
   "execution_count": 19,
   "metadata": {},
   "outputs": [
    {
     "name": "stdout",
     "output_type": "stream",
     "text": [
      "Reading model parameters from checkpoints/checkpoint-2400\n",
      "INFO:tensorflow:Restoring parameters from checkpoints/checkpoint-2400\n"
     ]
    },
    {
     "ename": "InvalidArgumentError",
     "evalue": "5 is not between 0 and 4\n\t [[Node: train/gradients/sentence_level/sentence/attention/Tensordot/transpose_grad/InvertPermutation = InvertPermutation[T=DT_INT32, _device=\"/job:localhost/replica:0/task:0/gpu:0\"](sentence_level/sentence/attention/Tensordot/concat_1)]]\n\t [[Node: sentence_level/sentence/attention/Tensordot/Shape/_1777 = _Recv[client_terminated=false, recv_device=\"/job:localhost/replica:0/task:0/cpu:0\", send_device=\"/job:localhost/replica:0/task:0/gpu:0\", send_device_incarnation=1, tensor_name=\"edge_34752_sentence_level/sentence/attention/Tensordot/Shape\", tensor_type=DT_INT32, _device=\"/job:localhost/replica:0/task:0/cpu:0\"]()]]\n\nCaused by op 'train/gradients/sentence_level/sentence/attention/Tensordot/transpose_grad/InvertPermutation', defined at:\n  File \"/opt/anaconda3/lib/python3.6/runpy.py\", line 193, in _run_module_as_main\n    \"__main__\", mod_spec)\n  File \"/opt/anaconda3/lib/python3.6/runpy.py\", line 85, in _run_code\n    exec(code, run_globals)\n  File \"/opt/anaconda3/lib/python3.6/site-packages/ipykernel_launcher.py\", line 16, in <module>\n    app.launch_new_instance()\n  File \"/opt/anaconda3/lib/python3.6/site-packages/traitlets/config/application.py\", line 658, in launch_instance\n    app.start()\n  File \"/opt/anaconda3/lib/python3.6/site-packages/ipykernel/kernelapp.py\", line 477, in start\n    ioloop.IOLoop.instance().start()\n  File \"/opt/anaconda3/lib/python3.6/site-packages/zmq/eventloop/ioloop.py\", line 177, in start\n    super(ZMQIOLoop, self).start()\n  File \"/opt/anaconda3/lib/python3.6/site-packages/tornado/ioloop.py\", line 888, in start\n    handler_func(fd_obj, events)\n  File \"/opt/anaconda3/lib/python3.6/site-packages/tornado/stack_context.py\", line 277, in null_wrapper\n    return fn(*args, **kwargs)\n  File \"/opt/anaconda3/lib/python3.6/site-packages/zmq/eventloop/zmqstream.py\", line 440, in _handle_events\n    self._handle_recv()\n  File \"/opt/anaconda3/lib/python3.6/site-packages/zmq/eventloop/zmqstream.py\", line 472, in _handle_recv\n    self._run_callback(callback, msg)\n  File \"/opt/anaconda3/lib/python3.6/site-packages/zmq/eventloop/zmqstream.py\", line 414, in _run_callback\n    callback(*args, **kwargs)\n  File \"/opt/anaconda3/lib/python3.6/site-packages/tornado/stack_context.py\", line 277, in null_wrapper\n    return fn(*args, **kwargs)\n  File \"/opt/anaconda3/lib/python3.6/site-packages/ipykernel/kernelbase.py\", line 283, in dispatcher\n    return self.dispatch_shell(stream, msg)\n  File \"/opt/anaconda3/lib/python3.6/site-packages/ipykernel/kernelbase.py\", line 235, in dispatch_shell\n    handler(stream, idents, msg)\n  File \"/opt/anaconda3/lib/python3.6/site-packages/ipykernel/kernelbase.py\", line 399, in execute_request\n    user_expressions, allow_stdin)\n  File \"/opt/anaconda3/lib/python3.6/site-packages/ipykernel/ipkernel.py\", line 196, in do_execute\n    res = shell.run_cell(code, store_history=store_history, silent=silent)\n  File \"/opt/anaconda3/lib/python3.6/site-packages/ipykernel/zmqshell.py\", line 533, in run_cell\n    return super(ZMQInteractiveShell, self).run_cell(*args, **kwargs)\n  File \"/opt/anaconda3/lib/python3.6/site-packages/IPython/core/interactiveshell.py\", line 2717, in run_cell\n    interactivity=interactivity, compiler=compiler, result=result)\n  File \"/opt/anaconda3/lib/python3.6/site-packages/IPython/core/interactiveshell.py\", line 2821, in run_ast_nodes\n    if self.run_code(code, result):\n  File \"/opt/anaconda3/lib/python3.6/site-packages/IPython/core/interactiveshell.py\", line 2881, in run_code\n    exec(code_obj, self.user_global_ns, self.user_ns)\n  File \"<ipython-input-19-cafc7deabc02>\", line 6, in <module>\n    model, saver = HAN_model_1(s)\n  File \"<ipython-input-18-3fd959f4f9c4>\", line 27, in HAN_model_1\n    is_training=is_training,\n  File \"/home/katenos/au_dl_course/seminar_9/homework/HanSequenceLabellingModel.py\", line 39, in __init__\n    self.train_op\n  File \"/opt/anaconda3/lib/python3.6/site-packages/lazy/lazy.py\", line 28, in __get__\n    value = self.__func(inst)\n  File \"/home/katenos/au_dl_course/seminar_9/homework/HanSequenceLabellingModel.py\", line 141, in train_op\n    tf.gradients(self.loss, tvars),\n  File \"/opt/anaconda3/lib/python3.6/site-packages/tensorflow/python/ops/gradients_impl.py\", line 542, in gradients\n    grad_scope, op, func_call, lambda: grad_fn(op, *out_grads))\n  File \"/opt/anaconda3/lib/python3.6/site-packages/tensorflow/python/ops/gradients_impl.py\", line 348, in _MaybeCompile\n    return grad_fn()  # Exit early\n  File \"/opt/anaconda3/lib/python3.6/site-packages/tensorflow/python/ops/gradients_impl.py\", line 542, in <lambda>\n    grad_scope, op, func_call, lambda: grad_fn(op, *out_grads))\n  File \"/opt/anaconda3/lib/python3.6/site-packages/tensorflow/python/ops/array_grad.py\", line 494, in _TransposeGrad\n    return [array_ops.transpose(grad, array_ops.invert_permutation(p)), None]\n  File \"/opt/anaconda3/lib/python3.6/site-packages/tensorflow/python/ops/gen_array_ops.py\", line 1454, in invert_permutation\n    result = _op_def_lib.apply_op(\"InvertPermutation\", x=x, name=name)\n  File \"/opt/anaconda3/lib/python3.6/site-packages/tensorflow/python/framework/op_def_library.py\", line 767, in apply_op\n    op_def=op_def)\n  File \"/opt/anaconda3/lib/python3.6/site-packages/tensorflow/python/framework/ops.py\", line 2630, in create_op\n    original_op=self._default_original_op, op_def=op_def)\n  File \"/opt/anaconda3/lib/python3.6/site-packages/tensorflow/python/framework/ops.py\", line 1204, in __init__\n    self._traceback = self._graph._extract_stack()  # pylint: disable=protected-access\n\n...which was originally created as op 'sentence_level/sentence/attention/Tensordot/transpose', defined at:\n  File \"/opt/anaconda3/lib/python3.6/runpy.py\", line 193, in _run_module_as_main\n    \"__main__\", mod_spec)\n[elided 20 identical lines from previous traceback]\n  File \"<ipython-input-18-3fd959f4f9c4>\", line 27, in HAN_model_1\n    is_training=is_training,\n  File \"/home/katenos/au_dl_course/seminar_9/homework/HanSequenceLabellingModel.py\", line 37, in __init__\n    self.sentence_level_output\n  File \"/opt/anaconda3/lib/python3.6/site-packages/lazy/lazy.py\", line 28, in __get__\n    value = self.__func(inst)\n  File \"/home/katenos/au_dl_course/seminar_9/homework/HanSequenceLabellingModel.py\", line 113, in sentence_level_output\n    sentence_encoder_output, self.sentence_output_size, scope=scope)\n  File \"/home/katenos/au_dl_course/seminar_9/homework/model_components.py\", line 82, in task_specific_attention\n    scope=scope)\n  File \"/opt/anaconda3/lib/python3.6/site-packages/tensorflow/contrib/framework/python/ops/arg_scope.py\", line 181, in func_with_args\n    return func(*args, **current_args)\n  File \"/opt/anaconda3/lib/python3.6/site-packages/tensorflow/contrib/layers/python/layers/layers.py\", line 1661, in fully_connected\n    outputs = layer.apply(inputs)\n  File \"/opt/anaconda3/lib/python3.6/site-packages/tensorflow/python/layers/base.py\", line 503, in apply\n    return self.__call__(inputs, *args, **kwargs)\n  File \"/opt/anaconda3/lib/python3.6/site-packages/tensorflow/python/layers/base.py\", line 450, in __call__\n    outputs = self.call(inputs, *args, **kwargs)\n  File \"/opt/anaconda3/lib/python3.6/site-packages/tensorflow/python/layers/core.py\", line 137, in call\n    [0]])\n  File \"/opt/anaconda3/lib/python3.6/site-packages/tensorflow/python/ops/math_ops.py\", line 2453, in tensordot\n    a_reshape, a_free_dims, a_free_dims_static = _tensordot_reshape(a, a_axes)\n  File \"/opt/anaconda3/lib/python3.6/site-packages/tensorflow/python/ops/math_ops.py\", line 2420, in _tensordot_reshape\n    reshaped_a = array_ops.reshape(array_ops.transpose(a, perm), new_shape)\n\nInvalidArgumentError (see above for traceback): 5 is not between 0 and 4\n\t [[Node: train/gradients/sentence_level/sentence/attention/Tensordot/transpose_grad/InvertPermutation = InvertPermutation[T=DT_INT32, _device=\"/job:localhost/replica:0/task:0/gpu:0\"](sentence_level/sentence/attention/Tensordot/concat_1)]]\n\t [[Node: sentence_level/sentence/attention/Tensordot/Shape/_1777 = _Recv[client_terminated=false, recv_device=\"/job:localhost/replica:0/task:0/cpu:0\", send_device=\"/job:localhost/replica:0/task:0/gpu:0\", send_device_incarnation=1, tensor_name=\"edge_34752_sentence_level/sentence/attention/Tensordot/Shape\", tensor_type=DT_INT32, _device=\"/job:localhost/replica:0/task:0/cpu:0\"]()]]\n",
     "output_type": "error",
     "traceback": [
      "\u001b[0;31m---------------------------------------------------------------------------\u001b[0m",
      "\u001b[0;31mInvalidArgumentError\u001b[0m                      Traceback (most recent call last)",
      "\u001b[0;32m/opt/anaconda3/lib/python3.6/site-packages/tensorflow/python/client/session.py\u001b[0m in \u001b[0;36m_do_call\u001b[0;34m(self, fn, *args)\u001b[0m\n\u001b[1;32m   1326\u001b[0m     \u001b[0;32mtry\u001b[0m\u001b[0;34m:\u001b[0m\u001b[0;34m\u001b[0m\u001b[0m\n\u001b[0;32m-> 1327\u001b[0;31m       \u001b[0;32mreturn\u001b[0m \u001b[0mfn\u001b[0m\u001b[0;34m(\u001b[0m\u001b[0;34m*\u001b[0m\u001b[0margs\u001b[0m\u001b[0;34m)\u001b[0m\u001b[0;34m\u001b[0m\u001b[0m\n\u001b[0m\u001b[1;32m   1328\u001b[0m     \u001b[0;32mexcept\u001b[0m \u001b[0merrors\u001b[0m\u001b[0;34m.\u001b[0m\u001b[0mOpError\u001b[0m \u001b[0;32mas\u001b[0m \u001b[0me\u001b[0m\u001b[0;34m:\u001b[0m\u001b[0;34m\u001b[0m\u001b[0m\n",
      "\u001b[0;32m/opt/anaconda3/lib/python3.6/site-packages/tensorflow/python/client/session.py\u001b[0m in \u001b[0;36m_run_fn\u001b[0;34m(session, feed_dict, fetch_list, target_list, options, run_metadata)\u001b[0m\n\u001b[1;32m   1305\u001b[0m                                    \u001b[0mfeed_dict\u001b[0m\u001b[0;34m,\u001b[0m \u001b[0mfetch_list\u001b[0m\u001b[0;34m,\u001b[0m \u001b[0mtarget_list\u001b[0m\u001b[0;34m,\u001b[0m\u001b[0;34m\u001b[0m\u001b[0m\n\u001b[0;32m-> 1306\u001b[0;31m                                    status, run_metadata)\n\u001b[0m\u001b[1;32m   1307\u001b[0m \u001b[0;34m\u001b[0m\u001b[0m\n",
      "\u001b[0;32m/opt/anaconda3/lib/python3.6/contextlib.py\u001b[0m in \u001b[0;36m__exit__\u001b[0;34m(self, type, value, traceback)\u001b[0m\n\u001b[1;32m     88\u001b[0m             \u001b[0;32mtry\u001b[0m\u001b[0;34m:\u001b[0m\u001b[0;34m\u001b[0m\u001b[0m\n\u001b[0;32m---> 89\u001b[0;31m                 \u001b[0mnext\u001b[0m\u001b[0;34m(\u001b[0m\u001b[0mself\u001b[0m\u001b[0;34m.\u001b[0m\u001b[0mgen\u001b[0m\u001b[0;34m)\u001b[0m\u001b[0;34m\u001b[0m\u001b[0m\n\u001b[0m\u001b[1;32m     90\u001b[0m             \u001b[0;32mexcept\u001b[0m \u001b[0mStopIteration\u001b[0m\u001b[0;34m:\u001b[0m\u001b[0;34m\u001b[0m\u001b[0m\n",
      "\u001b[0;32m/opt/anaconda3/lib/python3.6/site-packages/tensorflow/python/framework/errors_impl.py\u001b[0m in \u001b[0;36mraise_exception_on_not_ok_status\u001b[0;34m()\u001b[0m\n\u001b[1;32m    465\u001b[0m           \u001b[0mcompat\u001b[0m\u001b[0;34m.\u001b[0m\u001b[0mas_text\u001b[0m\u001b[0;34m(\u001b[0m\u001b[0mpywrap_tensorflow\u001b[0m\u001b[0;34m.\u001b[0m\u001b[0mTF_Message\u001b[0m\u001b[0;34m(\u001b[0m\u001b[0mstatus\u001b[0m\u001b[0;34m)\u001b[0m\u001b[0;34m)\u001b[0m\u001b[0;34m,\u001b[0m\u001b[0;34m\u001b[0m\u001b[0m\n\u001b[0;32m--> 466\u001b[0;31m           pywrap_tensorflow.TF_GetCode(status))\n\u001b[0m\u001b[1;32m    467\u001b[0m   \u001b[0;32mfinally\u001b[0m\u001b[0;34m:\u001b[0m\u001b[0;34m\u001b[0m\u001b[0m\n",
      "\u001b[0;31mInvalidArgumentError\u001b[0m: 5 is not between 0 and 4\n\t [[Node: train/gradients/sentence_level/sentence/attention/Tensordot/transpose_grad/InvertPermutation = InvertPermutation[T=DT_INT32, _device=\"/job:localhost/replica:0/task:0/gpu:0\"](sentence_level/sentence/attention/Tensordot/concat_1)]]\n\t [[Node: sentence_level/sentence/attention/Tensordot/Shape/_1777 = _Recv[client_terminated=false, recv_device=\"/job:localhost/replica:0/task:0/cpu:0\", send_device=\"/job:localhost/replica:0/task:0/gpu:0\", send_device_incarnation=1, tensor_name=\"edge_34752_sentence_level/sentence/attention/Tensordot/Shape\", tensor_type=DT_INT32, _device=\"/job:localhost/replica:0/task:0/cpu:0\"]()]]",
      "\nDuring handling of the above exception, another exception occurred:\n",
      "\u001b[0;31mInvalidArgumentError\u001b[0m                      Traceback (most recent call last)",
      "\u001b[0;32m<ipython-input-19-cafc7deabc02>\u001b[0m in \u001b[0;36m<module>\u001b[0;34m()\u001b[0m\n\u001b[1;32m     26\u001b[0m                 \u001b[0mmodel\u001b[0m\u001b[0;34m.\u001b[0m\u001b[0maccuracy\u001b[0m\u001b[0;34m,\u001b[0m\u001b[0;34m\u001b[0m\u001b[0m\n\u001b[1;32m     27\u001b[0m                 \u001b[0mmodel\u001b[0m\u001b[0;34m.\u001b[0m\u001b[0mtrain_op\u001b[0m\u001b[0;34m,\u001b[0m\u001b[0;34m\u001b[0m\u001b[0m\n\u001b[0;32m---> 28\u001b[0;31m         ], feed_dict=fd)\n\u001b[0m\u001b[1;32m     29\u001b[0m         \u001b[0mtd\u001b[0m \u001b[0;34m=\u001b[0m \u001b[0mtime\u001b[0m\u001b[0;34m.\u001b[0m\u001b[0mclock\u001b[0m\u001b[0;34m(\u001b[0m\u001b[0;34m)\u001b[0m \u001b[0;34m-\u001b[0m \u001b[0mt0\u001b[0m\u001b[0;34m\u001b[0m\u001b[0m\n\u001b[1;32m     30\u001b[0m \u001b[0;34m\u001b[0m\u001b[0m\n",
      "\u001b[0;32m/opt/anaconda3/lib/python3.6/site-packages/tensorflow/python/client/session.py\u001b[0m in \u001b[0;36mrun\u001b[0;34m(self, fetches, feed_dict, options, run_metadata)\u001b[0m\n\u001b[1;32m    893\u001b[0m     \u001b[0;32mtry\u001b[0m\u001b[0;34m:\u001b[0m\u001b[0;34m\u001b[0m\u001b[0m\n\u001b[1;32m    894\u001b[0m       result = self._run(None, fetches, feed_dict, options_ptr,\n\u001b[0;32m--> 895\u001b[0;31m                          run_metadata_ptr)\n\u001b[0m\u001b[1;32m    896\u001b[0m       \u001b[0;32mif\u001b[0m \u001b[0mrun_metadata\u001b[0m\u001b[0;34m:\u001b[0m\u001b[0;34m\u001b[0m\u001b[0m\n\u001b[1;32m    897\u001b[0m         \u001b[0mproto_data\u001b[0m \u001b[0;34m=\u001b[0m \u001b[0mtf_session\u001b[0m\u001b[0;34m.\u001b[0m\u001b[0mTF_GetBuffer\u001b[0m\u001b[0;34m(\u001b[0m\u001b[0mrun_metadata_ptr\u001b[0m\u001b[0;34m)\u001b[0m\u001b[0;34m\u001b[0m\u001b[0m\n",
      "\u001b[0;32m/opt/anaconda3/lib/python3.6/site-packages/tensorflow/python/client/session.py\u001b[0m in \u001b[0;36m_run\u001b[0;34m(self, handle, fetches, feed_dict, options, run_metadata)\u001b[0m\n\u001b[1;32m   1122\u001b[0m     \u001b[0;32mif\u001b[0m \u001b[0mfinal_fetches\u001b[0m \u001b[0;32mor\u001b[0m \u001b[0mfinal_targets\u001b[0m \u001b[0;32mor\u001b[0m \u001b[0;34m(\u001b[0m\u001b[0mhandle\u001b[0m \u001b[0;32mand\u001b[0m \u001b[0mfeed_dict_tensor\u001b[0m\u001b[0;34m)\u001b[0m\u001b[0;34m:\u001b[0m\u001b[0;34m\u001b[0m\u001b[0m\n\u001b[1;32m   1123\u001b[0m       results = self._do_run(handle, final_targets, final_fetches,\n\u001b[0;32m-> 1124\u001b[0;31m                              feed_dict_tensor, options, run_metadata)\n\u001b[0m\u001b[1;32m   1125\u001b[0m     \u001b[0;32melse\u001b[0m\u001b[0;34m:\u001b[0m\u001b[0;34m\u001b[0m\u001b[0m\n\u001b[1;32m   1126\u001b[0m       \u001b[0mresults\u001b[0m \u001b[0;34m=\u001b[0m \u001b[0;34m[\u001b[0m\u001b[0;34m]\u001b[0m\u001b[0;34m\u001b[0m\u001b[0m\n",
      "\u001b[0;32m/opt/anaconda3/lib/python3.6/site-packages/tensorflow/python/client/session.py\u001b[0m in \u001b[0;36m_do_run\u001b[0;34m(self, handle, target_list, fetch_list, feed_dict, options, run_metadata)\u001b[0m\n\u001b[1;32m   1319\u001b[0m     \u001b[0;32mif\u001b[0m \u001b[0mhandle\u001b[0m \u001b[0;32mis\u001b[0m \u001b[0;32mNone\u001b[0m\u001b[0;34m:\u001b[0m\u001b[0;34m\u001b[0m\u001b[0m\n\u001b[1;32m   1320\u001b[0m       return self._do_call(_run_fn, self._session, feeds, fetches, targets,\n\u001b[0;32m-> 1321\u001b[0;31m                            options, run_metadata)\n\u001b[0m\u001b[1;32m   1322\u001b[0m     \u001b[0;32melse\u001b[0m\u001b[0;34m:\u001b[0m\u001b[0;34m\u001b[0m\u001b[0m\n\u001b[1;32m   1323\u001b[0m       \u001b[0;32mreturn\u001b[0m \u001b[0mself\u001b[0m\u001b[0;34m.\u001b[0m\u001b[0m_do_call\u001b[0m\u001b[0;34m(\u001b[0m\u001b[0m_prun_fn\u001b[0m\u001b[0;34m,\u001b[0m \u001b[0mself\u001b[0m\u001b[0;34m.\u001b[0m\u001b[0m_session\u001b[0m\u001b[0;34m,\u001b[0m \u001b[0mhandle\u001b[0m\u001b[0;34m,\u001b[0m \u001b[0mfeeds\u001b[0m\u001b[0;34m,\u001b[0m \u001b[0mfetches\u001b[0m\u001b[0;34m)\u001b[0m\u001b[0;34m\u001b[0m\u001b[0m\n",
      "\u001b[0;32m/opt/anaconda3/lib/python3.6/site-packages/tensorflow/python/client/session.py\u001b[0m in \u001b[0;36m_do_call\u001b[0;34m(self, fn, *args)\u001b[0m\n\u001b[1;32m   1338\u001b[0m         \u001b[0;32mexcept\u001b[0m \u001b[0mKeyError\u001b[0m\u001b[0;34m:\u001b[0m\u001b[0;34m\u001b[0m\u001b[0m\n\u001b[1;32m   1339\u001b[0m           \u001b[0;32mpass\u001b[0m\u001b[0;34m\u001b[0m\u001b[0m\n\u001b[0;32m-> 1340\u001b[0;31m       \u001b[0;32mraise\u001b[0m \u001b[0mtype\u001b[0m\u001b[0;34m(\u001b[0m\u001b[0me\u001b[0m\u001b[0;34m)\u001b[0m\u001b[0;34m(\u001b[0m\u001b[0mnode_def\u001b[0m\u001b[0;34m,\u001b[0m \u001b[0mop\u001b[0m\u001b[0;34m,\u001b[0m \u001b[0mmessage\u001b[0m\u001b[0;34m)\u001b[0m\u001b[0;34m\u001b[0m\u001b[0m\n\u001b[0m\u001b[1;32m   1341\u001b[0m \u001b[0;34m\u001b[0m\u001b[0m\n\u001b[1;32m   1342\u001b[0m   \u001b[0;32mdef\u001b[0m \u001b[0m_extend_graph\u001b[0m\u001b[0;34m(\u001b[0m\u001b[0mself\u001b[0m\u001b[0;34m)\u001b[0m\u001b[0;34m:\u001b[0m\u001b[0;34m\u001b[0m\u001b[0m\n",
      "\u001b[0;31mInvalidArgumentError\u001b[0m: 5 is not between 0 and 4\n\t [[Node: train/gradients/sentence_level/sentence/attention/Tensordot/transpose_grad/InvertPermutation = InvertPermutation[T=DT_INT32, _device=\"/job:localhost/replica:0/task:0/gpu:0\"](sentence_level/sentence/attention/Tensordot/concat_1)]]\n\t [[Node: sentence_level/sentence/attention/Tensordot/Shape/_1777 = _Recv[client_terminated=false, recv_device=\"/job:localhost/replica:0/task:0/cpu:0\", send_device=\"/job:localhost/replica:0/task:0/gpu:0\", send_device_incarnation=1, tensor_name=\"edge_34752_sentence_level/sentence/attention/Tensordot/Shape\", tensor_type=DT_INT32, _device=\"/job:localhost/replica:0/task:0/cpu:0\"]()]]\n\nCaused by op 'train/gradients/sentence_level/sentence/attention/Tensordot/transpose_grad/InvertPermutation', defined at:\n  File \"/opt/anaconda3/lib/python3.6/runpy.py\", line 193, in _run_module_as_main\n    \"__main__\", mod_spec)\n  File \"/opt/anaconda3/lib/python3.6/runpy.py\", line 85, in _run_code\n    exec(code, run_globals)\n  File \"/opt/anaconda3/lib/python3.6/site-packages/ipykernel_launcher.py\", line 16, in <module>\n    app.launch_new_instance()\n  File \"/opt/anaconda3/lib/python3.6/site-packages/traitlets/config/application.py\", line 658, in launch_instance\n    app.start()\n  File \"/opt/anaconda3/lib/python3.6/site-packages/ipykernel/kernelapp.py\", line 477, in start\n    ioloop.IOLoop.instance().start()\n  File \"/opt/anaconda3/lib/python3.6/site-packages/zmq/eventloop/ioloop.py\", line 177, in start\n    super(ZMQIOLoop, self).start()\n  File \"/opt/anaconda3/lib/python3.6/site-packages/tornado/ioloop.py\", line 888, in start\n    handler_func(fd_obj, events)\n  File \"/opt/anaconda3/lib/python3.6/site-packages/tornado/stack_context.py\", line 277, in null_wrapper\n    return fn(*args, **kwargs)\n  File \"/opt/anaconda3/lib/python3.6/site-packages/zmq/eventloop/zmqstream.py\", line 440, in _handle_events\n    self._handle_recv()\n  File \"/opt/anaconda3/lib/python3.6/site-packages/zmq/eventloop/zmqstream.py\", line 472, in _handle_recv\n    self._run_callback(callback, msg)\n  File \"/opt/anaconda3/lib/python3.6/site-packages/zmq/eventloop/zmqstream.py\", line 414, in _run_callback\n    callback(*args, **kwargs)\n  File \"/opt/anaconda3/lib/python3.6/site-packages/tornado/stack_context.py\", line 277, in null_wrapper\n    return fn(*args, **kwargs)\n  File \"/opt/anaconda3/lib/python3.6/site-packages/ipykernel/kernelbase.py\", line 283, in dispatcher\n    return self.dispatch_shell(stream, msg)\n  File \"/opt/anaconda3/lib/python3.6/site-packages/ipykernel/kernelbase.py\", line 235, in dispatch_shell\n    handler(stream, idents, msg)\n  File \"/opt/anaconda3/lib/python3.6/site-packages/ipykernel/kernelbase.py\", line 399, in execute_request\n    user_expressions, allow_stdin)\n  File \"/opt/anaconda3/lib/python3.6/site-packages/ipykernel/ipkernel.py\", line 196, in do_execute\n    res = shell.run_cell(code, store_history=store_history, silent=silent)\n  File \"/opt/anaconda3/lib/python3.6/site-packages/ipykernel/zmqshell.py\", line 533, in run_cell\n    return super(ZMQInteractiveShell, self).run_cell(*args, **kwargs)\n  File \"/opt/anaconda3/lib/python3.6/site-packages/IPython/core/interactiveshell.py\", line 2717, in run_cell\n    interactivity=interactivity, compiler=compiler, result=result)\n  File \"/opt/anaconda3/lib/python3.6/site-packages/IPython/core/interactiveshell.py\", line 2821, in run_ast_nodes\n    if self.run_code(code, result):\n  File \"/opt/anaconda3/lib/python3.6/site-packages/IPython/core/interactiveshell.py\", line 2881, in run_code\n    exec(code_obj, self.user_global_ns, self.user_ns)\n  File \"<ipython-input-19-cafc7deabc02>\", line 6, in <module>\n    model, saver = HAN_model_1(s)\n  File \"<ipython-input-18-3fd959f4f9c4>\", line 27, in HAN_model_1\n    is_training=is_training,\n  File \"/home/katenos/au_dl_course/seminar_9/homework/HanSequenceLabellingModel.py\", line 39, in __init__\n    self.train_op\n  File \"/opt/anaconda3/lib/python3.6/site-packages/lazy/lazy.py\", line 28, in __get__\n    value = self.__func(inst)\n  File \"/home/katenos/au_dl_course/seminar_9/homework/HanSequenceLabellingModel.py\", line 141, in train_op\n    tf.gradients(self.loss, tvars),\n  File \"/opt/anaconda3/lib/python3.6/site-packages/tensorflow/python/ops/gradients_impl.py\", line 542, in gradients\n    grad_scope, op, func_call, lambda: grad_fn(op, *out_grads))\n  File \"/opt/anaconda3/lib/python3.6/site-packages/tensorflow/python/ops/gradients_impl.py\", line 348, in _MaybeCompile\n    return grad_fn()  # Exit early\n  File \"/opt/anaconda3/lib/python3.6/site-packages/tensorflow/python/ops/gradients_impl.py\", line 542, in <lambda>\n    grad_scope, op, func_call, lambda: grad_fn(op, *out_grads))\n  File \"/opt/anaconda3/lib/python3.6/site-packages/tensorflow/python/ops/array_grad.py\", line 494, in _TransposeGrad\n    return [array_ops.transpose(grad, array_ops.invert_permutation(p)), None]\n  File \"/opt/anaconda3/lib/python3.6/site-packages/tensorflow/python/ops/gen_array_ops.py\", line 1454, in invert_permutation\n    result = _op_def_lib.apply_op(\"InvertPermutation\", x=x, name=name)\n  File \"/opt/anaconda3/lib/python3.6/site-packages/tensorflow/python/framework/op_def_library.py\", line 767, in apply_op\n    op_def=op_def)\n  File \"/opt/anaconda3/lib/python3.6/site-packages/tensorflow/python/framework/ops.py\", line 2630, in create_op\n    original_op=self._default_original_op, op_def=op_def)\n  File \"/opt/anaconda3/lib/python3.6/site-packages/tensorflow/python/framework/ops.py\", line 1204, in __init__\n    self._traceback = self._graph._extract_stack()  # pylint: disable=protected-access\n\n...which was originally created as op 'sentence_level/sentence/attention/Tensordot/transpose', defined at:\n  File \"/opt/anaconda3/lib/python3.6/runpy.py\", line 193, in _run_module_as_main\n    \"__main__\", mod_spec)\n[elided 20 identical lines from previous traceback]\n  File \"<ipython-input-18-3fd959f4f9c4>\", line 27, in HAN_model_1\n    is_training=is_training,\n  File \"/home/katenos/au_dl_course/seminar_9/homework/HanSequenceLabellingModel.py\", line 37, in __init__\n    self.sentence_level_output\n  File \"/opt/anaconda3/lib/python3.6/site-packages/lazy/lazy.py\", line 28, in __get__\n    value = self.__func(inst)\n  File \"/home/katenos/au_dl_course/seminar_9/homework/HanSequenceLabellingModel.py\", line 113, in sentence_level_output\n    sentence_encoder_output, self.sentence_output_size, scope=scope)\n  File \"/home/katenos/au_dl_course/seminar_9/homework/model_components.py\", line 82, in task_specific_attention\n    scope=scope)\n  File \"/opt/anaconda3/lib/python3.6/site-packages/tensorflow/contrib/framework/python/ops/arg_scope.py\", line 181, in func_with_args\n    return func(*args, **current_args)\n  File \"/opt/anaconda3/lib/python3.6/site-packages/tensorflow/contrib/layers/python/layers/layers.py\", line 1661, in fully_connected\n    outputs = layer.apply(inputs)\n  File \"/opt/anaconda3/lib/python3.6/site-packages/tensorflow/python/layers/base.py\", line 503, in apply\n    return self.__call__(inputs, *args, **kwargs)\n  File \"/opt/anaconda3/lib/python3.6/site-packages/tensorflow/python/layers/base.py\", line 450, in __call__\n    outputs = self.call(inputs, *args, **kwargs)\n  File \"/opt/anaconda3/lib/python3.6/site-packages/tensorflow/python/layers/core.py\", line 137, in call\n    [0]])\n  File \"/opt/anaconda3/lib/python3.6/site-packages/tensorflow/python/ops/math_ops.py\", line 2453, in tensordot\n    a_reshape, a_free_dims, a_free_dims_static = _tensordot_reshape(a, a_axes)\n  File \"/opt/anaconda3/lib/python3.6/site-packages/tensorflow/python/ops/math_ops.py\", line 2420, in _tensordot_reshape\n    reshaped_a = array_ops.reshape(array_ops.transpose(a, perm), new_shape)\n\nInvalidArgumentError (see above for traceback): 5 is not between 0 and 4\n\t [[Node: train/gradients/sentence_level/sentence/attention/Tensordot/transpose_grad/InvertPermutation = InvertPermutation[T=DT_INT32, _device=\"/job:localhost/replica:0/task:0/gpu:0\"](sentence_level/sentence/attention/Tensordot/concat_1)]]\n\t [[Node: sentence_level/sentence/attention/Tensordot/Shape/_1777 = _Recv[client_terminated=false, recv_device=\"/job:localhost/replica:0/task:0/cpu:0\", send_device=\"/job:localhost/replica:0/task:0/gpu:0\", send_device_incarnation=1, tensor_name=\"edge_34752_sentence_level/sentence/attention/Tensordot/Shape\", tensor_type=DT_INT32, _device=\"/job:localhost/replica:0/task:0/cpu:0\"]()]]\n"
     ]
    }
   ],
   "source": [
    "tf.reset_default_graph()\n",
    "\n",
    "config = tf.ConfigProto(allow_soft_placement=True, gpu_options=gpu_options)\n",
    "\n",
    "with tf.Session(config=config) as s:\n",
    "    model, saver = HAN_model_1(s)\n",
    "    tflog_dir = 'tf_logs'\n",
    "    summary_writer = tf.summary.FileWriter(tflog_dir, graph=tf.get_default_graph())\n",
    "\n",
    "    for i, (data, labels_batch, sent_per_doc, words_per_sent_per_doc,) in enumerate(batches_split):\n",
    "\n",
    "        fd = {\n",
    "            model.is_training: True,\n",
    "            model.inputs_embedded: data,\n",
    "            model.word_lengths: words_per_sent_per_doc,\n",
    "            model.sentence_lengths: sent_per_doc,\n",
    "            model.labels: labels_batch,\n",
    "            model.sample_weights: np.ones(shape=(10))\n",
    "        }\n",
    "\n",
    "        t0 = time.clock()\n",
    "        step, summaries, loss, accuracy, _ = s.run([\n",
    "                model.global_step,\n",
    "                model.summary,\n",
    "                model.loss,\n",
    "                model.accuracy,\n",
    "                model.train_op,\n",
    "        ], feed_dict=fd)\n",
    "        td = time.clock() - t0\n",
    "\n",
    "        summary_writer.add_summary(summaries, global_step=step)\n",
    "\n",
    "        checkpoint_frequency = 100\n",
    "        eval_frequency = 1\n",
    "        \n",
    "        if step % 1 == 0:\n",
    "            print('step %s, loss=%s, accuracy=%s, t=%s, inputs=%s' % (step, loss, accuracy, round(td, 2), fd[model.inputs_embedded].shape))\n",
    "        if step != 0 and step % checkpoint_frequency == 0:\n",
    "            print('checkpoint & graph meta')\n",
    "            checkpoint_path = 'checkpoints/checkpoint'\n",
    "            saver.save(s, checkpoint_path, global_step=step)\n",
    "            print('checkpoint done')"
   ]
  },
  {
   "cell_type": "code",
   "execution_count": 26,
   "metadata": {},
   "outputs": [
    {
     "name": "stdout",
     "output_type": "stream",
     "text": [
      "Reading model parameters from checkpoints/checkpoint-2400\n",
      "INFO:tensorflow:Restoring parameters from checkpoints/checkpoint-2400\n",
      "\u001b[48;5;201m\t \u001b[0m\u001b[48;5;198m\t \u001b[0m\u001b[48;5;196m\t\n",
      "\u001b[0mmin\tmed\tmax\n",
      "\u001b[48;5;200m\t \u001b[0m  \u001b[0m\u001b[48;5;200mthis \u001b[0m\u001b[48;5;200mmovie \u001b[0m\u001b[48;5;200mshould \u001b[0m\u001b[48;5;201mbe \u001b[0m\u001b[48;5;201mshown \u001b[0m\u001b[48;5;201mto \u001b[0m\u001b[48;5;201mfilm \u001b[0m\u001b[48;5;201mschool \u001b[0m\u001b[48;5;201mstudents \u001b[0m\u001b[48;5;201mas \u001b[0m\u001b[48;5;201man \u001b[0m\u001b[48;5;201mexample \u001b[0m\u001b[48;5;201mof \u001b[0m\u001b[48;5;201mwhat \u001b[0m\u001b[48;5;201mnot \u001b[0m\u001b[48;5;201mto \u001b[0m\u001b[48;5;201mdo \u001b[0m\n",
      "\u001b[48;5;196m\t \u001b[0m  \u001b[0m\u001b[48;5;201mthe \u001b[0m\u001b[48;5;201moriginal \u001b[0m\u001b[48;5;201mkicked \u001b[0m\u001b[48;5;201msome \u001b[0m\u001b[48;5;201mmajor \u001b[0m\u001b[48;5;201mtire \u001b[0m\u001b[48;5;201msquealing \u001b[0m\u001b[48;5;201mbutt \u001b[0m\u001b[48;5;201m, \u001b[0m\u001b[48;5;200mthis \u001b[0m\u001b[48;5;200mhorrible \u001b[0m\u001b[48;5;201mdisaster \u001b[0m\u001b[48;5;201mbreaks \u001b[0m\u001b[48;5;201mthe \u001b[0m\u001b[48;5;201mcardinal \u001b[0m\u001b[48;5;201mrule \u001b[0m\u001b[48;5;201mof \u001b[0m\u001b[48;5;201mbruckheimer \u001b[0m\u001b[48;5;201mfilms \u001b[0m\u001b[48;5;201m, \u001b[0m\u001b[48;5;201mwhich \u001b[0m\u001b[48;5;201mis \u001b[0m\u001b[48;5;201m: \u001b[0m\u001b[48;5;201mwe \u001b[0m\u001b[48;5;201mall \u001b[0m\u001b[48;5;201mknow \u001b[0m\u001b[48;5;201mthey \u001b[0m\u001b[48;5;201msuck \u001b[0m\u001b[48;5;201m, \u001b[0m\u001b[48;5;201mbut \u001b[0m\u001b[48;5;201mthey \u001b[0m\u001b[48;5;201mhave \u001b[0m\u001b[48;5;201mgreat \u001b[0m\u001b[48;5;201maction \u001b[0m\n",
      "\u001b[48;5;198m\t \u001b[0m  \u001b[0m\u001b[48;5;200mthis \u001b[0m\u001b[48;5;200mfilm \u001b[0m\u001b[48;5;199mhas \u001b[0m\u001b[48;5;199mno \u001b[0m\u001b[48;5;200maction \u001b[0m\n",
      "\u001b[48;5;197m\t \u001b[0m  \u001b[0m\u001b[48;5;200mthis \u001b[0m\u001b[48;5;200mfilm \u001b[0m\u001b[48;5;198mis \u001b[0m\u001b[48;5;196mboring \u001b[0m\n",
      "\u001b[48;5;197m\t \u001b[0m  \u001b[0m\u001b[48;5;201mwhere \u001b[0m\u001b[48;5;201mare \u001b[0m\u001b[48;5;201mthe \u001b[0m\u001b[48;5;201mcars \u001b[0m\u001b[48;5;201m? \u001b[0m\u001b[48;5;201mwhere \u001b[0m\u001b[48;5;201mare \u001b[0m\u001b[48;5;201mthe \u001b[0m\u001b[48;5;201mchases \u001b[0m\u001b[48;5;201m? \u001b[0m\u001b[48;5;201mwhere \u001b[0m\u001b[48;5;201ms \u001b[0m\u001b[48;5;201mthe \u001b[0m\u001b[48;5;201mtension \u001b[0m\u001b[48;5;201m? \u001b[0m\u001b[48;5;201mwhere \u001b[0m\u001b[48;5;201ms \u001b[0m\u001b[48;5;201mthe \u001b[0m\u001b[48;5;201msuspense \u001b[0m\u001b[48;5;201m? \u001b[0m\u001b[48;5;201mwhere \u001b[0m\u001b[48;5;201ms \u001b[0m\u001b[48;5;201mthe \u001b[0m\u001b[48;5;201mrush \u001b[0m\u001b[48;5;201m? \u001b[0m\u001b[48;5;201mwhere \u001b[0m\u001b[48;5;201m! \u001b[0m\u001b[48;5;201m! \u001b[0m\u001b[48;5;201m? \u001b[0m\u001b[48;5;201m? \u001b[0m\u001b[48;5;201mthis \u001b[0m\u001b[48;5;201misn \u001b[0m\u001b[48;5;201mt \u001b[0m\u001b[48;5;201mreally \u001b[0m\u001b[48;5;201ma \u001b[0m\u001b[48;5;201mmovie \u001b[0m\u001b[48;5;201mat \u001b[0m\u001b[48;5;201mall \u001b[0m\u001b[48;5;201m, \u001b[0m\u001b[48;5;201mit \u001b[0m\u001b[48;5;201ms \u001b[0m\u001b[48;5;201ma \u001b[0m\u001b[48;5;200mbad \u001b[0m\u001b[48;5;201mcommercial \u001b[0m\n",
      "\u001b[48;5;198m\t \u001b[0m  \u001b[0m\u001b[48;5;201mcars \u001b[0m\u001b[48;5;201min \u001b[0m\u001b[48;5;201mhours \u001b[0m\u001b[48;5;201m? \u001b[0m\u001b[48;5;201mthat \u001b[0m\u001b[48;5;201mis \u001b[0m\u001b[48;5;200mwrong \u001b[0m\n",
      "\u001b[48;5;198m\t \u001b[0m  \u001b[0m\u001b[48;5;201mthey \u001b[0m\u001b[48;5;201mhave \u001b[0m\u001b[48;5;201mdays \u001b[0m\u001b[48;5;201mto \u001b[0m\u001b[48;5;201msteal \u001b[0m\u001b[48;5;201mthem \u001b[0m\u001b[48;5;201m, \u001b[0m\u001b[48;5;201mthe \u001b[0m\u001b[48;5;201mad \u001b[0m\u001b[48;5;201mis \u001b[0m\u001b[48;5;200mwrong \u001b[0m\n",
      "\u001b[48;5;197m\t \u001b[0m  \u001b[0m\u001b[48;5;201mhow \u001b[0m\u001b[48;5;199mbad \u001b[0m\u001b[48;5;200mis \u001b[0m\u001b[48;5;200mthat \u001b[0m\u001b[48;5;200m? \u001b[0m\u001b[48;5;201mthe \u001b[0m\u001b[48;5;201mleads \u001b[0m\u001b[48;5;201macting \u001b[0m\u001b[48;5;201mis \u001b[0m\u001b[48;5;201mstiff \u001b[0m\u001b[48;5;201m, \u001b[0m\u001b[48;5;201mwooden \u001b[0m\u001b[48;5;201mand \u001b[0m\u001b[48;5;201mforced \u001b[0m\n",
      "\u001b[48;5;198m\t \u001b[0m  \u001b[0m\u001b[48;5;201mthe \u001b[0m\u001b[48;5;200mvillain \u001b[0m\u001b[48;5;200m, \u001b[0m\u001b[48;5;200mthe \u001b[0m\u001b[48;5;201mcop \u001b[0m\u001b[48;5;201m, \u001b[0m\u001b[48;5;201mthe \u001b[0m\u001b[48;5;201mothers \u001b[0m\n",
      "\u001b[48;5;199m\t \u001b[0m  \u001b[0m\u001b[48;5;201mwho \u001b[0m\u001b[48;5;200mcares \u001b[0m\n",
      "\u001b[48;5;198m\t \u001b[0m  \u001b[0m\u001b[48;5;200mthey \u001b[0m\u001b[48;5;199mutter \u001b[0m\u001b[48;5;200mtheir \u001b[0m\u001b[48;5;199mpointless \u001b[0m\u001b[48;5;200mlines \u001b[0m\u001b[48;5;200m, \u001b[0m\u001b[48;5;200mthey \u001b[0m\u001b[48;5;201mserve \u001b[0m\u001b[48;5;201mthe \u001b[0m\u001b[48;5;201millogical \u001b[0m\u001b[48;5;201mplot \u001b[0m\n",
      "\u001b[48;5;199m\t \u001b[0m  \u001b[0m\u001b[48;5;201mthey \u001b[0m\u001b[48;5;201mslog \u001b[0m\u001b[48;5;201mthrough \u001b[0m\u001b[48;5;201mit \u001b[0m\u001b[48;5;201mthe \u001b[0m\u001b[48;5;201mbest \u001b[0m\u001b[48;5;201mthey \u001b[0m\u001b[48;5;201mcan \u001b[0m\u001b[48;5;201mas \u001b[0m\u001b[48;5;201mthe \u001b[0m\u001b[48;5;201mmusic \u001b[0m\u001b[48;5;201mvideo \u001b[0m\u001b[48;5;201mdirector \u001b[0m\u001b[48;5;201msays \u001b[0m\u001b[48;5;201mdon \u001b[0m\u001b[48;5;201mt \u001b[0m\u001b[48;5;201mworry \u001b[0m\u001b[48;5;201mwe \u001b[0m\u001b[48;5;201mll \u001b[0m\u001b[48;5;201mmake \u001b[0m\u001b[48;5;201ma \u001b[0m\u001b[48;5;201mlot \u001b[0m\u001b[48;5;201mof \u001b[0m\u001b[48;5;201mfast \u001b[0m\u001b[48;5;201mcuts \u001b[0m\u001b[48;5;201mand \u001b[0m\u001b[48;5;201mno \u001b[0m\u001b[48;5;201mone \u001b[0m\u001b[48;5;201mwill \u001b[0m\u001b[48;5;201mnotice \u001b[0m\u001b[48;5;201mhow \u001b[0m\u001b[48;5;201mbad \u001b[0m\u001b[48;5;201mthe \u001b[0m\u001b[48;5;201mfilm \u001b[0m\u001b[48;5;201mis \u001b[0m\u001b[48;5;201mor \u001b[0m\u001b[48;5;201mwe \u001b[0m\u001b[48;5;201mll \u001b[0m\u001b[48;5;201mfix \u001b[0m\u001b[48;5;201mit \u001b[0m\u001b[48;5;201mwith \u001b[0m\u001b[48;5;201mlots \u001b[0m\u001b[48;5;201mof \u001b[0m\u001b[48;5;201mloud \u001b[0m\u001b[48;5;201mmusic \u001b[0m\u001b[48;5;201mthe \u001b[0m\u001b[48;5;201mscript \u001b[0m\u001b[48;5;201misn \u001b[0m\u001b[48;5;201mt \u001b[0m\u001b[48;5;201mreally \u001b[0m\u001b[48;5;201ma \u001b[0m\u001b[48;5;201mscript \u001b[0m\u001b[48;5;201mat \u001b[0m\u001b[48;5;201mall \u001b[0m\u001b[48;5;201m, \u001b[0m\u001b[48;5;201mit \u001b[0m\u001b[48;5;201ms \u001b[0m\u001b[48;5;201mmore \u001b[0m\u001b[48;5;201mlike \u001b[0m\u001b[48;5;201ma \u001b[0m\u001b[48;5;201mlist \u001b[0m\u001b[48;5;201mof \u001b[0m\u001b[48;5;201mcliches \u001b[0m\u001b[48;5;201mwith \u001b[0m\u001b[48;5;201man \u001b[0m\u001b[48;5;201mending \u001b[0m\u001b[48;5;201mthat \u001b[0m\u001b[48;5;201mis \u001b[0m\u001b[48;5;201ma \u001b[0m\u001b[48;5;201mtotal \u001b[0m\u001b[48;5;201mripoff \u001b[0m\u001b[48;5;201mof \u001b[0m\u001b[48;5;201m: \u001b[0m\u001b[48;5;201mwarning \u001b[0m\u001b[48;5;201mpossible \u001b[0m\u001b[48;5;201mspoiler \u001b[0m\u001b[48;5;201mthe \u001b[0m\u001b[48;5;201mfugitive \u001b[0m\n",
      "\u001b[48;5;200m\t \u001b[0m  \u001b[0m\u001b[48;5;201mthe \u001b[0m\u001b[48;5;201mbiggest \u001b[0m\u001b[48;5;201mcrime \u001b[0m\u001b[48;5;201mof \u001b[0m\u001b[48;5;201mall \u001b[0m\u001b[48;5;201mis \u001b[0m\u001b[48;5;201mthe \u001b[0m\u001b[48;5;201munderuse \u001b[0m\u001b[48;5;201mof \u001b[0m\u001b[48;5;201mvinnie \u001b[0m\u001b[48;5;201mjones \u001b[0m\u001b[48;5;201m, \u001b[0m\u001b[48;5;201mman \u001b[0m\n",
      "\u001b[48;5;200m\t \u001b[0m  \u001b[0m\u001b[48;5;200mthis \u001b[0m\u001b[48;5;200mis \u001b[0m\u001b[48;5;200mthe \u001b[0m\u001b[48;5;200mbaddest \u001b[0m\u001b[48;5;201m, \u001b[0m\u001b[48;5;201mcoolest \u001b[0m\u001b[48;5;201mmofo \u001b[0m\u001b[48;5;201msince \u001b[0m\u001b[48;5;201mjules \u001b[0m\u001b[48;5;201min \u001b[0m\u001b[48;5;201mpulp \u001b[0m\u001b[48;5;201mfiction \u001b[0m\n",
      "\u001b[48;5;200m\t \u001b[0m  \u001b[0m\u001b[48;5;201mand \u001b[0m\u001b[48;5;201mwhat \u001b[0m\u001b[48;5;201mdo \u001b[0m\u001b[48;5;201mthey \u001b[0m\u001b[48;5;201mdo \u001b[0m\u001b[48;5;201m! \u001b[0m\u001b[48;5;201m? \u001b[0m\u001b[48;5;201mthey \u001b[0m\u001b[48;5;201mmake \u001b[0m\u001b[48;5;201mhim \u001b[0m\u001b[48;5;201ma \u001b[0m\u001b[48;5;201mmute \u001b[0m\u001b[48;5;201mwho \u001b[0m\u001b[48;5;201ms \u001b[0m\u001b[48;5;201mhardly \u001b[0m\u001b[48;5;201min \u001b[0m\u001b[48;5;201mthe \u001b[0m\u001b[48;5;201mfilm \u001b[0m\u001b[48;5;201m! \u001b[0m\u001b[48;5;201mmake \u001b[0m\u001b[48;5;201mvinnie \u001b[0m\u001b[48;5;201mthe \u001b[0m\u001b[48;5;201mmain \u001b[0m\u001b[48;5;201mvillain \u001b[0m\u001b[48;5;201mand \u001b[0m\u001b[48;5;201mhe \u001b[0m\u001b[48;5;201mcould \u001b[0m\u001b[48;5;201mhave \u001b[0m\u001b[48;5;201msaved \u001b[0m\u001b[48;5;201mthe \u001b[0m\u001b[48;5;201mfilm \u001b[0m\n",
      "\u001b[48;5;200m\t \u001b[0m  \u001b[0m\u001b[48;5;201mhow \u001b[0m\u001b[48;5;201mcould \u001b[0m\u001b[48;5;201mthey \u001b[0m\u001b[48;5;201mhave \u001b[0m\u001b[48;5;201mbeen \u001b[0m\u001b[48;5;201mso \u001b[0m\u001b[48;5;201mdumb \u001b[0m\u001b[48;5;201m? \u001b[0m\u001b[48;5;201mhow \u001b[0m\u001b[48;5;201m? \u001b[0m\u001b[48;5;201mhow \u001b[0m\u001b[48;5;201m? \u001b[0m\u001b[48;5;201mwhy \u001b[0m\u001b[48;5;201m? \u001b[0m\u001b[48;5;200mthe \u001b[0m\u001b[48;5;200moriginal \u001b[0m\u001b[48;5;200mfilm \u001b[0m\u001b[48;5;200mis \u001b[0m\u001b[48;5;201mvery \u001b[0m\u001b[48;5;201mentertaining \u001b[0m\u001b[48;5;201mwith \u001b[0m\u001b[48;5;201ma \u001b[0m\u001b[48;5;201mcool \u001b[0m\u001b[48;5;201mtrick \u001b[0m\u001b[48;5;201mat \u001b[0m\u001b[48;5;201mthe \u001b[0m\u001b[48;5;201mend \u001b[0m\u001b[48;5;201mthat \u001b[0m\u001b[48;5;201mgets \u001b[0m\u001b[48;5;201mthe \u001b[0m\u001b[48;5;201mdriver \u001b[0m\u001b[48;5;201maway \u001b[0m\n",
      "\u001b[48;5;200m\t \u001b[0m  \u001b[0m\u001b[48;5;201mthe \u001b[0m\u001b[48;5;201moriginal \u001b[0m\u001b[48;5;201mhas \u001b[0m\u001b[48;5;201ma \u001b[0m\u001b[48;5;200mgreat \u001b[0m\u001b[48;5;201mminute \u001b[0m\u001b[48;5;201mchase \u001b[0m\u001b[48;5;201mthat \u001b[0m\u001b[48;5;201mdelivers \u001b[0m\u001b[48;5;201m! \u001b[0m\u001b[48;5;201mgo \u001b[0m\u001b[48;5;201mfind \u001b[0m\u001b[48;5;201mthe \u001b[0m\u001b[48;5;201moriginal \u001b[0m\n",
      "\u001b[48;5;200m\t \u001b[0m  \u001b[0m\u001b[48;5;201mor \u001b[0m\u001b[48;5;201mif \u001b[0m\u001b[48;5;201myou \u001b[0m\u001b[48;5;201mre \u001b[0m\u001b[48;5;201mcraving \u001b[0m\u001b[48;5;201msome \u001b[0m\u001b[48;5;201mreal \u001b[0m\u001b[48;5;201mcar \u001b[0m\u001b[48;5;201mchase \u001b[0m\u001b[48;5;201maction \u001b[0m\u001b[48;5;201mgo \u001b[0m\u001b[48;5;201mrent \u001b[0m\u001b[48;5;201mronin \u001b[0m\n",
      "\u001b[48;5;201m\t \u001b[0m  \u001b[0m\u001b[48;5;201mthe \u001b[0m\u001b[48;5;201mchases \u001b[0m\u001b[48;5;201min \u001b[0m\u001b[48;5;201mronin \u001b[0m\u001b[48;5;201mraised \u001b[0m\u001b[48;5;201mthe \u001b[0m\u001b[48;5;201mbar \u001b[0m\u001b[48;5;201mby \u001b[0m\u001b[48;5;201mwhich \u001b[0m\u001b[48;5;201mall \u001b[0m\u001b[48;5;201mother \u001b[0m\u001b[48;5;201mcar \u001b[0m\u001b[48;5;201mchases \u001b[0m\u001b[48;5;201mwill \u001b[0m\u001b[48;5;201mnow \u001b[0m\u001b[48;5;201mbe \u001b[0m\u001b[48;5;201mjudged \u001b[0m\n",
      "\u001b[48;5;200m\t \u001b[0m  \u001b[0m\u001b[48;5;201mbruckheimer \u001b[0m\u001b[48;5;201mand \u001b[0m\u001b[48;5;201mcage \u001b[0m\u001b[48;5;201mhad \u001b[0m\u001b[48;5;201mall \u001b[0m\u001b[48;5;201mthat \u001b[0m\u001b[48;5;201mmoney \u001b[0m\u001b[48;5;201m, \u001b[0m\u001b[48;5;201mall \u001b[0m\u001b[48;5;201mthose \u001b[0m\u001b[48;5;201mresources \u001b[0m\u001b[48;5;201m, \u001b[0m\u001b[48;5;201mall \u001b[0m\u001b[48;5;201mthat \u001b[0m\u001b[48;5;201mexperience \u001b[0m\u001b[48;5;201m, \u001b[0m\u001b[48;5;201mand \u001b[0m\u001b[48;5;201mthey \u001b[0m\u001b[48;5;201mcan \u001b[0m\u001b[48;5;201mt \u001b[0m\u001b[48;5;201meven \u001b[0m\u001b[48;5;201mcome \u001b[0m\u001b[48;5;201mclose \u001b[0m\u001b[48;5;201mto \u001b[0m\u001b[48;5;201mmatching \u001b[0m\u001b[48;5;201ma \u001b[0m\u001b[48;5;201mfilm \u001b[0m\u001b[48;5;201mmade \u001b[0m\u001b[48;5;201myears \u001b[0m\u001b[48;5;201mago \u001b[0m\u001b[48;5;201mfor \u001b[0m\u001b[48;5;201m, \u001b[0m\u001b[48;5;201m? \u001b[0m\u001b[48;5;201mhow \u001b[0m\u001b[48;5;201mcan \u001b[0m\u001b[48;5;201mthat \u001b[0m\u001b[48;5;201mbe \u001b[0m\u001b[48;5;201m? \u001b[0m\u001b[48;5;201myou \u001b[0m\u001b[48;5;201mfeel \u001b[0m\u001b[48;5;201mlike \u001b[0m\u001b[48;5;201myou \u001b[0m\u001b[48;5;201mgot \u001b[0m\u001b[48;5;201mripped \u001b[0m\u001b[48;5;201moff \u001b[0m\u001b[48;5;201mafter \u001b[0m\u001b[48;5;201mseeing \u001b[0m\u001b[48;5;201mthis \u001b[0m\u001b[48;5;201mmovie \u001b[0m\n",
      "\u001b[48;5;200m\t \u001b[0m  \u001b[0m\u001b[48;5;201mwhere \u001b[0m\u001b[48;5;201mi \u001b[0m\u001b[48;5;201mwas \u001b[0m\u001b[48;5;201monce \u001b[0m\u001b[48;5;201mexcited \u001b[0m\u001b[48;5;201mto \u001b[0m\u001b[48;5;201msee \u001b[0m\u001b[48;5;201mcoyote \u001b[0m\u001b[48;5;200mugly \u001b[0m\u001b[48;5;201m, \u001b[0m\u001b[48;5;201mremember \u001b[0m\u001b[48;5;201mthe \u001b[0m\u001b[48;5;201mtitans \u001b[0m\u001b[48;5;201mand \u001b[0m\u001b[48;5;201mpearl \u001b[0m\u001b[48;5;201mharbor \u001b[0m\u001b[48;5;201m, \u001b[0m\u001b[48;5;201mnow \u001b[0m\u001b[48;5;201mi \u001b[0m\u001b[48;5;201msay \u001b[0m\u001b[48;5;201m: \u001b[0m\u001b[48;5;201mgod \u001b[0m\u001b[48;5;201mhelp \u001b[0m\u001b[48;5;201mus \u001b[0m\u001b[48;5;201mall \u001b[0m\n",
      "\u001b[48;5;200m\t \u001b[0m  \u001b[0m\u001b[48;5;201mbr \u001b[0m\u001b[48;5;201mbr \u001b[0m\n",
      "\n"
     ]
    }
   ],
   "source": [
    "tf.reset_default_graph()\n",
    "\n",
    "config = tf.ConfigProto(allow_soft_placement=True, gpu_options=gpu_options)\n",
    "\n",
    "from my_colors import print_color, rgb\n",
    "\n",
    "\n",
    "        \n",
    "with tf.Session(config=config) as s:\n",
    "    model, saver = HAN_model_1(s)\n",
    "    tflog_dir = 'tf_logs'\n",
    "    summary_writer = tf.summary.FileWriter(tflog_dir, graph=tf.get_default_graph())\n",
    "    \n",
    "    data, labels_batch, sent_per_doc,\\\n",
    "    words_per_sent_per_doc, sents_batch = next(batches_split)\n",
    "\n",
    "    fd = {\n",
    "        model.is_training: True,\n",
    "        model.inputs_embedded: data,\n",
    "        model.word_lengths: words_per_sent_per_doc,\n",
    "        model.sentence_lengths: sent_per_doc,\n",
    "        model.labels: labels_batch,\n",
    "        model.sample_weights: np.ones(shape=(10))\n",
    "    }\n",
    "\n",
    "    word_weights, sent_weights = s.run([model.word_weights, \n",
    "                                              model.sentence_weights], \n",
    "                                             feed_dict=fd)\n",
    "    \n",
    "    sent_weights = sent_weights[0]\n",
    "    sents = sents_batch[0]\n",
    "    \n",
    "    max_sent_weight = 0\n",
    "    max_word_weight = 0\n",
    "    \n",
    "    for sent_index in range(len(sents)):\n",
    "        max_sent_weight = max(max_sent_weight, sent_weights[sent_index])\n",
    "        \n",
    "        for word_index in range(len(sents[sent_index])):\n",
    "            max_word_weight = max(max_word_weight, word_weights[sent_index][word_index])\n",
    "    \n",
    "    def draw_colored_text(sentences, sent_weights, word_weights):\n",
    "        print_color(\"\\t\", bg=rgb(5, 0, 5.0), end=' ') \n",
    "        print_color(\"\\t\", bg=rgb(5, 0, 2.5), end=' ')\n",
    "        print_color(\"\\t\", bg=rgb(5, 0, 0.0), end='\\n')\n",
    "        print(\"min\\tmed\\tmax\")\n",
    "        for sent_index in range(len(sentences)):\n",
    "            intensity =  5 - int(sent_weights[sent_index] / max_sent_weight*5)\n",
    "            print_color(\"\\t\", bg=rgb(5, 0, intensity), end=' ') \n",
    "            print_color(\" \", end=' ') \n",
    "            for word_index in range(len(sentences[sent_index])):\n",
    "                intensity = 5 - int(word_weights[sent_index][word_index] / max_word_weight*5)\n",
    "                print_color(sentences[sent_index][word_index], bg=rgb(5, 0, intensity), end=' ') \n",
    "            print()\n",
    "    draw_colored_text(sents,  sent_weights, word_weights)\n",
    "    print()\n"
   ]
  },
  {
   "cell_type": "code",
   "execution_count": 23,
   "metadata": {
    "collapsed": true
   },
   "outputs": [],
   "source": [
    "goods_in_pos = []\n",
    "goods_in_neg = []\n",
    "bads_in_pos = []\n",
    "bads_in_neg = []\n",
    "\n",
    "def update(status, word, weight):\n",
    "    def update_pos(word):\n",
    "        if word == 'good':\n",
    "            goods_in_pos.append(weight[0])\n",
    "        else:\n",
    "            bads_in_pos.append(weight[0])\n",
    "    def update_neg(word):\n",
    "        if word == 'good':\n",
    "            goods_in_neg.append(weight[0])\n",
    "        else:\n",
    "            bads_in_neg.append(weight[0])\n",
    "\n",
    "    update_pos(word) if status else update_neg(word)"
   ]
  },
  {
   "cell_type": "code",
   "execution_count": 27,
   "metadata": {},
   "outputs": [
    {
     "name": "stdout",
     "output_type": "stream",
     "text": [
      "Reading model parameters from checkpoints/checkpoint-2400\n",
      "INFO:tensorflow:Restoring parameters from checkpoints/checkpoint-2400\n",
      "300\r"
     ]
    }
   ],
   "source": [
    "tf.reset_default_graph()\n",
    "config = tf.ConfigProto(allow_soft_placement=True, gpu_options=gpu_options)\n",
    "\n",
    "with tf.Session(config=config) as s:\n",
    "    model, saver = HAN_model_1(s)\n",
    "    tflog_dir = 'tf_logs'\n",
    "    summary_writer = tf.summary.FileWriter(tflog_dir, graph=tf.get_default_graph())\n",
    "    \n",
    "    for i, (data, labels_batch, sent_per_doc,\\\n",
    "            words_per_sent_per_doc, sents_batch) in enumerate(batches_split):\n",
    "\n",
    "        fd = {\n",
    "            model.is_training: True,\n",
    "            model.inputs_embedded: data,\n",
    "            model.word_lengths: words_per_sent_per_doc,\n",
    "            model.sentence_lengths: sent_per_doc,\n",
    "            model.labels: labels_batch,\n",
    "            model.sample_weights: np.ones(shape=(10))\n",
    "        }\n",
    "\n",
    "        word_weights, sent_weights = s.run([model.word_weights, \n",
    "                                                  model.sentence_weights], \n",
    "                                                 feed_dict=fd)\n",
    "\n",
    "        for review_index in range(len(sents_batch)):\n",
    "            status = labels_batch[review_index]\n",
    "            for sent_index in range(len(sents_batch[review_index])):\n",
    "                for word_index in range(len(sents_batch[review_index][sent_index])):\n",
    "                    word = sents_batch[review_index][sent_index][word_index]\n",
    "                    if word == 'good' or word == 'bad':\n",
    "                        weight = word_weights[review_index * sent_weights.shape[1]][word_index]\n",
    "                        update(status, word, weight)\n",
    "        \n",
    "        print(i, end='\\r')\n",
    "        \n",
    "        if i == 300:\n",
    "            break"
   ]
  },
  {
   "cell_type": "code",
   "execution_count": 28,
   "metadata": {},
   "outputs": [
    {
     "data": {
      "image/png": "[encoded data removed]",
      "text/plain": [
       "<matplotlib.figure.Figure at 0x7f334b3eea90>"
      ]
     },
     "metadata": {},
     "output_type": "display_data"
    },
    {
     "data": {
      "image/png": "[encoded data removed]",
      "text/plain": [
       "<matplotlib.figure.Figure at 0x7f334b3eee48>"
      ]
     },
     "metadata": {},
     "output_type": "display_data"
    }
   ],
   "source": [
    "import matplotlib.pyplot as plt\n",
    "import numpy as np\n",
    "\n",
    "%matplotlib inline\n",
    "def draw_plot(pos, neg, word):\n",
    "    max_att = max(max(pos), max(neg))\n",
    "    bins = np.linspace(0, max_att, 50)   \n",
    "    \n",
    "    plt.hist(pos, bins=bins, color='lightblue', \n",
    "             alpha=0.9, label='{} in positives'.format(word), \n",
    "             normed=True)\n",
    "    plt.hist(neg, bins=bins, color='salmon', \n",
    "             alpha=0.3, label='{} in negatives'.format(word),\n",
    "             normed=True)\n",
    "    \n",
    "    plt.legend(loc='upper right')\n",
    "    plt.show()\n",
    "draw_plot(goods_in_pos, goods_in_neg, 'good')\n",
    "draw_plot(bads_in_pos, bads_in_neg, 'bad')"
   ]
  },
  {
   "cell_type": "code",
   "execution_count": null,
   "metadata": {
    "collapsed": true
   },
   "outputs": [],
   "source": []
  }
 ],
 "metadata": {
  "kernelspec": {
   "display_name": "Python 3",
   "language": "python",
   "name": "python3"
  },
  "language_info": {
   "codemirror_mode": {
    "name": "ipython",
    "version": 3
   },
   "file_extension": ".py",
   "mimetype": "text/x-python",
   "name": "python",
   "nbconvert_exporter": "python",
   "pygments_lexer": "ipython3",
   "version": "3.6.1"
  }
 },
 "nbformat": 4,
 "nbformat_minor": 2
}
