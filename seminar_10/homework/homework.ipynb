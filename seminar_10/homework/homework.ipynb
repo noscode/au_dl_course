{
 "cells": [
  {
   "cell_type": "markdown",
   "metadata": {},
   "source": [
    "## Homework: Deep Jazz"
   ]
  },
  {
   "cell_type": "code",
   "execution_count": 1,
   "metadata": {},
   "outputs": [
    {
     "ename": "ModuleNotFoundError",
     "evalue": "No module named 'music21'",
     "output_type": "error",
     "traceback": [
      "\u001b[0;31m---------------------------------------------------------------------------\u001b[0m",
      "\u001b[0;31mModuleNotFoundError\u001b[0m                       Traceback (most recent call last)",
      "\u001b[0;32m<ipython-input-1-6bd226a07319>\u001b[0m in \u001b[0;36m<module>\u001b[0;34m()\u001b[0m\n\u001b[1;32m      1\u001b[0m \u001b[0;32mimport\u001b[0m \u001b[0mnumpy\u001b[0m \u001b[0;32mas\u001b[0m \u001b[0mnp\u001b[0m\u001b[0;34m\u001b[0m\u001b[0m\n\u001b[0;32m----> 2\u001b[0;31m \u001b[0;32mfrom\u001b[0m \u001b[0mmusic21\u001b[0m \u001b[0;32mimport\u001b[0m \u001b[0mstream\u001b[0m\u001b[0;34m,\u001b[0m \u001b[0mmidi\u001b[0m\u001b[0;34m,\u001b[0m \u001b[0mtempo\u001b[0m\u001b[0;34m,\u001b[0m \u001b[0mnote\u001b[0m\u001b[0;34m\u001b[0m\u001b[0m\n\u001b[0m\u001b[1;32m      3\u001b[0m \u001b[0;34m\u001b[0m\u001b[0m\n\u001b[1;32m      4\u001b[0m \u001b[0;31m# import lstm\u001b[0m\u001b[0;34m\u001b[0m\u001b[0;34m\u001b[0m\u001b[0m\n\u001b[1;32m      5\u001b[0m \u001b[0;32mfrom\u001b[0m \u001b[0mgrammar\u001b[0m \u001b[0;32mimport\u001b[0m \u001b[0munparse_grammar\u001b[0m\u001b[0;34m\u001b[0m\u001b[0m\n",
      "\u001b[0;31mModuleNotFoundError\u001b[0m: No module named 'music21'"
     ]
    }
   ],
   "source": [
    "import numpy as np\n",
    "from music21 import stream, midi, tempo, note\n",
    "\n",
    "# import lstm\n",
    "from grammar import unparse_grammar\n",
    "from preprocess import get_musical_data, get_corpus_data\n",
    "\n",
    "from qa import prune_grammar, prune_notes, clean_up_notes# \n",
    "from generator import __sample, __generate_grammar, __predict"
   ]
  },
  {
   "cell_type": "code",
   "execution_count": 5,
   "metadata": {
    "collapsed": true
   },
   "outputs": [],
   "source": [
    "N_epochs = 128  # default\n",
    "data_fn = 'midi/' + 'original_metheny.mid'  # 'And Then I Knew' by Pat Metheny\n",
    "out_fn = 'midi/' 'deepjazz_on_metheny...' + str(N_epochs)"
   ]
  },
  {
   "cell_type": "code",
   "execution_count": 6,
   "metadata": {},
   "outputs": [
    {
     "ename": "NameError",
     "evalue": "name 'get_musical_data' is not defined",
     "output_type": "error",
     "traceback": [
      "\u001b[0;31m---------------------------------------------------------------------------\u001b[0m",
      "\u001b[0;31mNameError\u001b[0m                                 Traceback (most recent call last)",
      "\u001b[0;32m<ipython-input-6-01623fc1ea66>\u001b[0m in \u001b[0;36m<module>\u001b[0;34m()\u001b[0m\n\u001b[1;32m      7\u001b[0m \u001b[0;34m\u001b[0m\u001b[0m\n\u001b[1;32m      8\u001b[0m \u001b[0;31m# get data\u001b[0m\u001b[0;34m\u001b[0m\u001b[0;34m\u001b[0m\u001b[0m\n\u001b[0;32m----> 9\u001b[0;31m \u001b[0mchords\u001b[0m\u001b[0;34m,\u001b[0m \u001b[0mabstract_grammars\u001b[0m \u001b[0;34m=\u001b[0m \u001b[0mget_musical_data\u001b[0m\u001b[0;34m(\u001b[0m\u001b[0mdata_fn\u001b[0m\u001b[0;34m)\u001b[0m\u001b[0;34m\u001b[0m\u001b[0m\n\u001b[0m\u001b[1;32m     10\u001b[0m \u001b[0mcorpus\u001b[0m\u001b[0;34m,\u001b[0m \u001b[0mvalues\u001b[0m\u001b[0;34m,\u001b[0m \u001b[0mval_indices\u001b[0m\u001b[0;34m,\u001b[0m \u001b[0mindices_val\u001b[0m \u001b[0;34m=\u001b[0m \u001b[0mget_corpus_data\u001b[0m\u001b[0;34m(\u001b[0m\u001b[0mabstract_grammars\u001b[0m\u001b[0;34m)\u001b[0m\u001b[0;34m\u001b[0m\u001b[0m\n\u001b[1;32m     11\u001b[0m \u001b[0mprint\u001b[0m\u001b[0;34m(\u001b[0m\u001b[0;34m'corpus length:'\u001b[0m\u001b[0;34m,\u001b[0m \u001b[0mlen\u001b[0m\u001b[0;34m(\u001b[0m\u001b[0mcorpus\u001b[0m\u001b[0;34m)\u001b[0m\u001b[0;34m)\u001b[0m\u001b[0;34m\u001b[0m\u001b[0m\n",
      "\u001b[0;31mNameError\u001b[0m: name 'get_musical_data' is not defined"
     ]
    }
   ],
   "source": [
    "max_len = 20\n",
    "max_tries = 1000\n",
    "diversity = 0.5\n",
    "\n",
    "# musical settings\n",
    "bpm = 130\n",
    "\n",
    "# get data\n",
    "chords, abstract_grammars = get_musical_data(data_fn)\n",
    "corpus, values, val_indices, indices_val = get_corpus_data(abstract_grammars)\n",
    "print('corpus length:', len(corpus))\n",
    "print('total # of values:', len(values))"
   ]
  },
  {
   "cell_type": "code",
   "execution_count": 4,
   "metadata": {},
   "outputs": [
    {
     "data": {
      "text/plain": [
       "[<music21.instrument.Piano Piano>,\n",
       " <music21.tempo.MetronomeMark Quarter=112.0>,\n",
       " <music21.key.Key of G major>,\n",
       " <music21.meter.TimeSignature 4/4>]"
      ]
     },
     "execution_count": 4,
     "metadata": {},
     "output_type": "execute_result"
    }
   ],
   "source": [
    "chords[0]"
   ]
  },
  {
   "cell_type": "code",
   "execution_count": 8,
   "metadata": {
    "collapsed": true
   },
   "outputs": [],
   "source": [
    "from keras.models import Sequential\n",
    "from keras.layers.core import Dense, Activation, Dropout\n",
    "from keras.layers.recurrent import LSTM\n",
    "\n",
    "def get_keras_model(max_len, N_values):\n",
    "    # build a 2 stacked LSTM\n",
    "    model = Sequential()\n",
    "    model.add(LSTM(128, return_sequences=True, input_shape=(max_len, N_values)))\n",
    "    model.add(Dropout(0.2))\n",
    "    model.add(LSTM(128, return_sequences=False))\n",
    "    model.add(Dropout(0.2))\n",
    "    model.add(Dense(N_values))\n",
    "    model.add(Activation('softmax'))\n",
    "\n",
    "    model.compile(loss='categorical_crossentropy', optimizer='rmsprop')\n",
    "    return model"
   ]
  },
  {
   "cell_type": "markdown",
   "metadata": {},
   "source": [
    "## Task"
   ]
  },
  {
   "cell_type": "markdown",
   "metadata": {},
   "source": [
    "Replace previous model with equivalent in prettytensor or tf.slim\n",
    "\n",
    "Try to make you code as compact as possible"
   ]
  },
  {
   "cell_type": "code",
   "execution_count": 8,
   "metadata": {
    "collapsed": true
   },
   "outputs": [],
   "source": [
    "import tensorflow as tf\n",
    "import tensorflow.contrib.slim as slim\n",
    "from tensorflow.contrib.rnn import MultiRNNCell, LSTMCell, DropoutWrapper, LayerNormBasicLSTMCell\n",
    "\n",
    "def get_init():\n",
    "    return tf.random_normal_initializer(0.0, 0.3)\n",
    "class myJazzNet:\n",
    "    def __init__(self, max_len, N_values):\n",
    "        self.max_len = max_len\n",
    "        self.N_values = N_values\n",
    "        self.keep_prob = 0.8\n",
    "        self.predictions = None\n",
    "        self.loss = None\n",
    "        self.optimization = None\n",
    "        self.accuracy = None\n",
    "        self.sess = None\n",
    "        self.create_placeholders()\n",
    "        self.build()\n",
    "    \n",
    "    def create_placeholders(self):\n",
    "        self.data = tf.placeholder(tf.float32, \n",
    "                                   [None, self.max_len, self.N_values]) \n",
    "        self.target = tf.placeholder(tf.float32, [None, self.N_values])\n",
    "    \n",
    "    def build(self):\n",
    "        lstm_1 = LSTMCell(128, initializer=get_init(), name='lstm_1')\n",
    "        lstm_2 = LSTMCell(128, initializer=get_init(), name='lstm_2')\n",
    "        multicell = MultiRNNCell([lstm_1, lstm_2], name='multi_cell')\n",
    "        \n",
    "        out, _ = tf.nn.dynamic_rnn(multicell, self.data, dtype=tf.float32)\n",
    "        \n",
    "        index = tf.range(0, tf.shape(out)[0]) * self.max_len + (self.max_len - 1)\n",
    "        out = tf.reshape(out, [-1, 128])\n",
    "        cut_out = tf.gather(out, index)\n",
    "                \n",
    "        with slim.arg_scope([slim.fully_connected],\n",
    "                            activation_fn=tf.nn.softmax,\n",
    "                            weights_initializer=get_init(),\n",
    "                            biases_initializer=get_init()):\n",
    "            \n",
    "            self.predictions = slim.fully_connected(cut_out, self.N_values, scope='final')\n",
    "        \n",
    "        self.loss = tf.losses.softmax_cross_entropy(self.target, self.predictions)\n",
    "        self.optimization = tf.train.AdamOptimizer(learning_rate=.001).minimize(self.loss)\n",
    "                \n",
    "        correct_predictions = tf.cast(tf.equal(tf.argmax(self.target, 1), tf.argmax(self.predictions, 1), tf.float32))\n",
    "        self.accuracy = tf.reduce_mean(correct_predictions)\n",
    "        \n",
    "    def fit(self, X, y, batch_size, epochs):\n",
    "        config = tf.ConfigProto(allow_soft_placement=True)\n",
    "        self.sess = tf.Session(config=config)\n",
    "        self.sess.run(tf.global_variables_initializer())\n",
    "        i = 0\n",
    "        \n",
    "        for epoch in range(epochs):\n",
    "            fd = {self.data: X, self.target: y}\n",
    "            loss, _, acc = self.sess.run([self.loss, self.optimization, self.accuracy], feed_dict=fd)\n",
    "            print('epoch_{} loss: {:.3f}, acc: {:.3f}'.format(epoch, loss, acc))\n",
    "\n",
    "            \n",
    "def get_slim_model(max_len, N_values):\n",
    "    return myJazzNet(max_len, N_values)"
   ]
  },
  {
   "cell_type": "code",
   "execution_count": 10,
   "metadata": {
    "collapsed": true
   },
   "outputs": [],
   "source": [
    "get_model = get_slim_model"
   ]
  },
  {
   "cell_type": "code",
   "execution_count": 11,
   "metadata": {
    "collapsed": true
   },
   "outputs": [],
   "source": [
    "import numpy as np\n",
    "\n",
    "''' Build a 2-layer LSTM from a training corpus '''\n",
    "\n",
    "\n",
    "def build_model(corpus, val_indices, max_len, N_epochs=128):\n",
    "    # number of different values or words in corpus\n",
    "    N_values = len(set(corpus))\n",
    "\n",
    "    # cut the corpus into semi-redundant sequences of max_len values\n",
    "    step = 3\n",
    "    sentences = []\n",
    "    next_values = []\n",
    "    for i in range(0, len(corpus) - max_len, step):\n",
    "        sentences.append(corpus[i: i + max_len])\n",
    "        next_values.append(corpus[i + max_len])\n",
    "    print('nb sequences:', len(sentences))\n",
    "\n",
    "    # transform data into binary matrices\n",
    "    X = np.zeros((len(sentences), max_len, N_values), dtype=np.bool)\n",
    "    y = np.zeros((len(sentences), N_values), dtype=np.bool)\n",
    "    for i, sentence in enumerate(sentences):\n",
    "        for t, val in enumerate(sentence):\n",
    "            X[i, t, val_indices[val]] = 1\n",
    "        y[i, val_indices[next_values[i]]] = 1\n",
    "\n",
    "    model = get_model(max_len, N_values)\n",
    "    model.fit(X, y, batch_size=128, epochs=N_epochs)\n",
    "\n",
    "    return model\n"
   ]
  },
  {
   "cell_type": "code",
   "execution_count": 12,
   "metadata": {},
   "outputs": [
    {
     "ename": "NameError",
     "evalue": "name 'corpus' is not defined",
     "output_type": "error",
     "traceback": [
      "\u001b[0;31m---------------------------------------------------------------------------\u001b[0m",
      "\u001b[0;31mNameError\u001b[0m                                 Traceback (most recent call last)",
      "\u001b[0;32m<ipython-input-12-6dde493e1fba>\u001b[0m in \u001b[0;36m<module>\u001b[0;34m()\u001b[0m\n\u001b[1;32m      1\u001b[0m \u001b[0;31m# build model\u001b[0m\u001b[0;34m\u001b[0m\u001b[0;34m\u001b[0m\u001b[0m\n\u001b[0;32m----> 2\u001b[0;31m model = build_model(corpus=corpus, val_indices=val_indices,\n\u001b[0m\u001b[1;32m      3\u001b[0m                          max_len=max_len, N_epochs=N_epochs)\n\u001b[1;32m      4\u001b[0m \u001b[0;34m\u001b[0m\u001b[0m\n\u001b[1;32m      5\u001b[0m \u001b[0;31m# set up audio stream\u001b[0m\u001b[0;34m\u001b[0m\u001b[0;34m\u001b[0m\u001b[0m\n",
      "\u001b[0;31mNameError\u001b[0m: name 'corpus' is not defined"
     ]
    }
   ],
   "source": [
    "# build model\n",
    "model = build_model(corpus=corpus, val_indices=val_indices,\n",
    "                         max_len=max_len, N_epochs=N_epochs)\n",
    "\n",
    "# set up audio stream\n",
    "out_stream = stream.Stream()\n",
    "\n",
    "# generation loop\n",
    "curr_offset = 0.0\n",
    "loopEnd = len(chords)\n",
    "for loopIndex in range(1, loopEnd):\n",
    "    # get chords from file\n",
    "    curr_chords = stream.Voice()\n",
    "    for j in chords[loopIndex]:\n",
    "        curr_chords.insert((j.offset % 4), j)\n",
    "\n",
    "    # generate grammar\n",
    "    curr_grammar = __generate_grammar(model=model, corpus=corpus,\n",
    "                                      abstract_grammars=abstract_grammars,\n",
    "                                      values=values, val_indices=val_indices,\n",
    "                                      indices_val=indices_val,\n",
    "                                      max_len=max_len, max_tries=max_tries,\n",
    "                                      diversity=diversity)\n",
    "\n",
    "    curr_grammar = curr_grammar.replace(' A', ' C').replace(' X', ' C')\n",
    "\n",
    "    # Pruning #1: smoothing measure\n",
    "    curr_grammar = prune_grammar(curr_grammar)\n",
    "\n",
    "    # Get notes from grammar and chords\n",
    "    curr_notes = unparse_grammar(curr_grammar, curr_chords)\n",
    "\n",
    "    # Pruning #2: removing repeated and too close together notes\n",
    "    curr_notes = prune_notes(curr_notes)\n",
    "\n",
    "    # quality assurance: clean up notes\n",
    "    curr_notes = clean_up_notes(curr_notes)\n",
    "\n",
    "    # print # of notes in curr_notes\n",
    "    print('After pruning: %s notes' % (len([i for i in curr_notes\n",
    "                                            if isinstance(i, note.Note)])))\n",
    "\n",
    "    # insert into the output stream\n",
    "    for m in curr_notes:\n",
    "        out_stream.insert(curr_offset + m.offset, m)\n",
    "    for mc in curr_chords:\n",
    "        out_stream.insert(curr_offset + mc.offset, mc)\n",
    "\n",
    "    curr_offset += 4.0\n",
    "\n",
    "out_stream.insert(0.0, tempo.MetronomeMark(number=bpm))\n",
    "\n",
    "# Play the final stream through output (see 'play' lambda function above)\n",
    "play = lambda x: midi.realtime.StreamPlayer(x).play()\n",
    "play(out_stream)\n",
    "\n",
    "# save stream\n",
    "mf = midi.translate.streamToMidiFile(out_stream)\n",
    "mf.open(out_fn, 'wb')\n",
    "mf.write()\n",
    "mf.close()    "
   ]
  },
  {
   "cell_type": "markdown",
   "metadata": {},
   "source": [
    "You can play generated sample using any midi player\n",
    "\n",
    "Under linux I prefer timidity"
   ]
  },
  {
   "cell_type": "code",
   "execution_count": null,
   "metadata": {
    "collapsed": true
   },
   "outputs": [],
   "source": [
    "!! timidity midi/deepjazz_on_metheny...128_epochs.midi"
   ]
  }
 ],
 "metadata": {
  "kernelspec": {
   "display_name": "Python 3",
   "language": "python",
   "name": "python3"
  },
  "language_info": {
   "codemirror_mode": {
    "name": "ipython",
    "version": 3
   },
   "file_extension": ".py",
   "mimetype": "text/x-python",
   "name": "python",
   "nbconvert_exporter": "python",
   "pygments_lexer": "ipython3",
   "version": "3.6.1"
  }
 },
 "nbformat": 4,
 "nbformat_minor": 2
}
